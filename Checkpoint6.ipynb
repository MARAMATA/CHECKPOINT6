{
 "cells": [
  {
   "cell_type": "code",
   "execution_count": 2,
   "id": "95dee8a9",
   "metadata": {
    "scrolled": true
   },
   "outputs": [
    {
     "name": "stdout",
     "output_type": "stream",
     "text": [
      "        name  score  attempts qualify\n",
      "a  Anastasia   12.5         1     yes\n",
      "b       Dima    9.0         3      no\n",
      "c  Katherine   16.5         2     yes\n",
      "d      James    NaN         3      no\n",
      "e      Emily    9.0         2      no\n",
      "f    Michael   20.0         3     yes\n",
      "g    Matthew   14.5         1     yes\n",
      "h      Laura    NaN         1      no\n",
      "i      Kevin    8.0         2      no\n",
      "j      Jonas   19.0         1     yes\n"
     ]
    }
   ],
   "source": [
    "import pandas as pd\n",
    "import numpy as np\n",
    "\n",
    "exam_data = {'name': ['Anastasia', 'Dima', 'Katherine', 'James', 'Emily', 'Michael', 'Matthew', 'Laura', 'Kevin', 'Jonas'],\n",
    "\n",
    "'score': [12.5, 9, 16.5, np.nan, 9, 20, 14.5, np.nan, 8, 19],\n",
    "\n",
    "'attempts': [1, 3, 2, 3, 2, 3, 1, 1, 2, 1],\n",
    "\n",
    "'qualify': ['yes', 'no', 'yes', 'no', 'no', 'yes', 'yes', 'no', 'no', 'yes']}\n",
    "\n",
    "labels = ['a', 'b', 'c', 'd', 'e', 'f', 'g', 'h', 'i', 'j']\n",
    "\n",
    "# creation du DataFrame \n",
    "df = pd.DataFrame(exam_data, index=labels)\n",
    "\n",
    "print(df)\n"
   ]
  },
  {
   "cell_type": "markdown",
   "id": "cc322739",
   "metadata": {},
   "source": [
    "# three first rows using the head() method."
   ]
  },
  {
   "cell_type": "code",
   "execution_count": 3,
   "id": "abcb5b6a",
   "metadata": {},
   "outputs": [
    {
     "name": "stdout",
     "output_type": "stream",
     "text": [
      "        name  score  attempts qualify\n",
      "a  Anastasia   12.5         1     yes\n",
      "b       Dima    9.0         3      no\n",
      "c  Katherine   16.5         2     yes\n"
     ]
    }
   ],
   "source": [
    "print(df.head(3))"
   ]
  },
  {
   "cell_type": "markdown",
   "id": "19bef854",
   "metadata": {},
   "source": [
    "# Deleting rows with Nan values"
   ]
  },
  {
   "cell_type": "code",
   "execution_count": 6,
   "id": "63f67a3e",
   "metadata": {},
   "outputs": [
    {
     "name": "stdout",
     "output_type": "stream",
     "text": [
      "        name  score  attempts qualify\n",
      "a  Anastasia   12.5         1     yes\n",
      "b       Dima    9.0         3      no\n",
      "c  Katherine   16.5         2     yes\n",
      "e      Emily    9.0         2      no\n",
      "f    Michael   20.0         3     yes\n",
      "g    Matthew   14.5         1     yes\n",
      "i      Kevin    8.0         2      no\n",
      "j      Jonas   19.0         1     yes\n"
     ]
    }
   ],
   "source": [
    "df = df.dropna()\n",
    "\n",
    "print(df)"
   ]
  },
  {
   "cell_type": "markdown",
   "id": "aa5da649",
   "metadata": {},
   "source": [
    "# Extracting the 'name' and 'score' columns from the DataFrame."
   ]
  },
  {
   "cell_type": "code",
   "execution_count": 7,
   "id": "b0e62fb5",
   "metadata": {},
   "outputs": [
    {
     "name": "stdout",
     "output_type": "stream",
     "text": [
      "        name  score\n",
      "a  Anastasia   12.5\n",
      "b       Dima    9.0\n",
      "c  Katherine   16.5\n",
      "e      Emily    9.0\n",
      "f    Michael   20.0\n",
      "g    Matthew   14.5\n",
      "i      Kevin    8.0\n",
      "j      Jonas   19.0\n"
     ]
    }
   ],
   "source": [
    "df_prime = df[['name', 'score']]\n",
    "\n",
    "print(df_prime)"
   ]
  },
  {
   "cell_type": "markdown",
   "id": "2014d236",
   "metadata": {},
   "source": [
    "# Writing a Pandas program to append a new row 'k' to the DataFrame"
   ]
  },
  {
   "cell_type": "code",
   "execution_count": 8,
   "id": "0a73be7c",
   "metadata": {},
   "outputs": [
    {
     "name": "stdout",
     "output_type": "stream",
     "text": [
      "        name  score  attempts qualify\n",
      "a  Anastasia   12.5         1     yes\n",
      "b       Dima    9.0         3      no\n",
      "c  Katherine   16.5         2     yes\n",
      "e      Emily    9.0         2      no\n",
      "f    Michael   20.0         3     yes\n",
      "g    Matthew   14.5         1     yes\n",
      "i      Kevin    8.0         2      no\n",
      "j      Jonas   19.0         1     yes\n",
      "k     Suresh   15.5         1     yes\n"
     ]
    },
    {
     "name": "stderr",
     "output_type": "stream",
     "text": [
      "/var/folders/wb/7346dvv17l1gl5y05743r5kh0000gn/T/ipykernel_7995/1997351265.py:2: FutureWarning: The frame.append method is deprecated and will be removed from pandas in a future version. Use pandas.concat instead.\n",
      "  df = df.append(pd.DataFrame(new_ligne, index=['k']))\n"
     ]
    }
   ],
   "source": [
    "new_ligne = {'name': 'Suresh', 'score': 15.5, 'attempts': 1, 'qualify': 'yes'}\n",
    "df = df.append(pd.DataFrame(new_ligne, index=['k']))\n",
    "\n",
    "print(df)"
   ]
  },
  {
   "cell_type": "markdown",
   "id": "007cc827",
   "metadata": {},
   "source": [
    "# Writing a Pandas program to delete the 'attempts' column from the DataFrame."
   ]
  },
  {
   "cell_type": "code",
   "execution_count": 9,
   "id": "c8bb71e5",
   "metadata": {},
   "outputs": [
    {
     "name": "stdout",
     "output_type": "stream",
     "text": [
      "        name  score qualify\n",
      "a  Anastasia   12.5     yes\n",
      "b       Dima    9.0      no\n",
      "c  Katherine   16.5     yes\n",
      "e      Emily    9.0      no\n",
      "f    Michael   20.0     yes\n",
      "g    Matthew   14.5     yes\n",
      "i      Kevin    8.0      no\n",
      "j      Jonas   19.0     yes\n",
      "k     Suresh   15.5     yes\n"
     ]
    }
   ],
   "source": [
    "df = df.drop('attempts', axis=1)\n",
    "\n",
    "print(df)"
   ]
  },
  {
   "cell_type": "markdown",
   "id": "a3393f0e",
   "metadata": {},
   "source": [
    "# Adding a new column \"Success\": if the score is higher than 10 we will have 1, else we will have 0."
   ]
  },
  {
   "cell_type": "code",
   "execution_count": 10,
   "id": "15883f6a",
   "metadata": {},
   "outputs": [
    {
     "name": "stdout",
     "output_type": "stream",
     "text": [
      "        name  score qualify  Success\n",
      "a  Anastasia   12.5     yes        1\n",
      "b       Dima    9.0      no        0\n",
      "c  Katherine   16.5     yes        1\n",
      "e      Emily    9.0      no        0\n",
      "f    Michael   20.0     yes        1\n",
      "g    Matthew   14.5     yes        1\n",
      "i      Kevin    8.0      no        0\n",
      "j      Jonas   19.0     yes        1\n",
      "k     Suresh   15.5     yes        1\n"
     ]
    }
   ],
   "source": [
    "df['Success'] = df['score'].apply(lambda x: 1 if x > 10 else 0)\n",
    "\n",
    "print(df)"
   ]
  },
  {
   "cell_type": "markdown",
   "id": "dc0a2267",
   "metadata": {},
   "source": [
    "# Exporting the DataFrames to CSV file."
   ]
  },
  {
   "cell_type": "code",
   "execution_count": 14,
   "id": "7d672133",
   "metadata": {},
   "outputs": [],
   "source": [
    "df.to_csv('my_data.csv', index_label='Index')"
   ]
  }
 ],
 "metadata": {
  "kernelspec": {
   "display_name": "Python 3 (ipykernel)",
   "language": "python",
   "name": "python3"
  },
  "language_info": {
   "codemirror_mode": {
    "name": "ipython",
    "version": 3
   },
   "file_extension": ".py",
   "mimetype": "text/x-python",
   "name": "python",
   "nbconvert_exporter": "python",
   "pygments_lexer": "ipython3",
   "version": "3.9.13"
  }
 },
 "nbformat": 4,
 "nbformat_minor": 5
}
